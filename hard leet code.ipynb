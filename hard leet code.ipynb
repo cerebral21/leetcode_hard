{
 "cells": [
  {
   "cell_type": "markdown",
   "metadata": {},
   "source": [
    "egg drop from building"
   ]
  },
  {
   "cell_type": "code",
   "execution_count": null,
   "metadata": {},
   "outputs": [],
   "source": [
    "class Solution:\n",
    "    def superEggDrop(self, K: int, N: int) -> int:\n",
    "        def f(t):\n",
    "            a=0\n",
    "            r=1\n",
    "            for i in range(1, K+1):\n",
    "                r *= (t-i+1)\n",
    "                r//=i\n",
    "                a+=r\n",
    "                if a>=N: \n",
    "                    break\n",
    "            return a\n",
    "        \n",
    "        l, h= 1, N\n",
    "        while l<h:\n",
    "            m=(l+h)//2\n",
    "            if f(m)<N:\n",
    "                l=m+1\n",
    "            else:\n",
    "                h=m\n",
    "        return l"
   ]
  },
  {
   "cell_type": "markdown",
   "metadata": {},
   "source": [
    "no. of ones"
   ]
  },
  {
   "cell_type": "code",
   "execution_count": null,
   "metadata": {},
   "outputs": [],
   "source": [
    "class Solution:\n",
    "    def countDigitOne(self, n: int) -> int:\n",
    "        c=0\n",
    "        i=1\n",
    "        while i<=n:\n",
    "            j=i*10\n",
    "            d=n//j\n",
    "            x=n%j\n",
    "            x-=(i-1)\n",
    "            c+= d*i \n",
    "            c+= min(max(x, 0), i)\n",
    "            i=j\n",
    "            \n",
    "        return c"
   ]
  },
  {
   "cell_type": "markdown",
   "metadata": {},
   "source": [
    "washing machine problem"
   ]
  },
  {
   "cell_type": "code",
   "execution_count": null,
   "metadata": {},
   "outputs": [],
   "source": [
    "class Solution:\n",
    "    def findMinMoves(self, machines: List[int]) -> int:\n",
    "        l=len(machines)\n",
    "        if l==1 or machines.count(0)==l:\n",
    "            return 0\n",
    "        if sum(machines)%l !=0:\n",
    "            return -1\n",
    "        avg=sum(machines)//l\n",
    "        r=g=0\n",
    "        for m in machines:\n",
    "            d=m-avg\n",
    "            g+=d\n",
    "            r=max(r, d, abs(g))\n",
    "        return r"
   ]
  },
  {
   "cell_type": "code",
   "execution_count": null,
   "metadata": {},
   "outputs": [],
   "source": []
  },
  {
   "cell_type": "code",
   "execution_count": null,
   "metadata": {},
   "outputs": [],
   "source": []
  },
  {
   "cell_type": "code",
   "execution_count": null,
   "metadata": {},
   "outputs": [],
   "source": []
  },
  {
   "cell_type": "code",
   "execution_count": null,
   "metadata": {},
   "outputs": [],
   "source": []
  },
  {
   "cell_type": "code",
   "execution_count": null,
   "metadata": {},
   "outputs": [],
   "source": []
  },
  {
   "cell_type": "code",
   "execution_count": null,
   "metadata": {},
   "outputs": [],
   "source": []
  }
 ],
 "metadata": {
  "kernelspec": {
   "display_name": "Python 3",
   "language": "python",
   "name": "python3"
  },
  "language_info": {
   "codemirror_mode": {
    "name": "ipython",
    "version": 3
   },
   "file_extension": ".py",
   "mimetype": "text/x-python",
   "name": "python",
   "nbconvert_exporter": "python",
   "pygments_lexer": "ipython3",
   "version": "3.7.3"
  }
 },
 "nbformat": 4,
 "nbformat_minor": 2
}
